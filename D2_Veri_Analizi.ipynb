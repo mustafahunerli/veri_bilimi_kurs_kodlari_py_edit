{
  "nbformat": 4,
  "nbformat_minor": 0,
  "metadata": {
    "colab": {
      "name": "D2_Veri_Analizi",
      "provenance": [],
      "authorship_tag": "ABX9TyOITJF9Poz7KmQzY4q3GO4v",
      "include_colab_link": true
    },
    "kernelspec": {
      "name": "python3",
      "display_name": "Python 3"
    },
    "language_info": {
      "name": "python"
    }
  },
  "cells": [
    {
      "cell_type": "markdown",
      "metadata": {
        "id": "view-in-github",
        "colab_type": "text"
      },
      "source": [
        "<a href=\"https://colab.research.google.com/github/mustafahunerli/veri_bilimi_kurs_kodlari_py_edit/blob/main/D2_Veri_Analizi.ipynb\" target=\"_parent\"><img src=\"https://colab.research.google.com/assets/colab-badge.svg\" alt=\"Open In Colab\"/></a>"
      ]
    },
    {
      "cell_type": "markdown",
      "metadata": {
        "id": "WABkFe0ejKoK"
      },
      "source": [
        "# **Veri Analizi**"
      ]
    },
    {
      "cell_type": "markdown",
      "metadata": {
        "id": "TMKP7Yzm31yY"
      },
      "source": [
        "##1. Veri Seti Hikayesi ve Yapısının İncelenmesi"
      ]
    },
    {
      "cell_type": "markdown",
      "metadata": {
        "id": "NRXNvov5AYb4"
      },
      "source": [
        "###1.1 Veri setinin hikayesi\n",
        "\n",
        "veri setinin hikayesi nedir? veri nasıl toplandı, veri nasıl oluşturuldu?"
      ]
    },
    {
      "cell_type": "code",
      "metadata": {
        "colab": {
          "base_uri": "https://localhost:8080/",
          "height": 0
        },
        "id": "jnoQy_kV3_uX",
        "outputId": "2faf3538-a949-443f-a87a-0bba1f89ed73"
      },
      "source": [
        "import seaborn as sns\n",
        "diamonds = sns.load_dataset('diamonds')\n",
        "df = diamonds.copy()\n",
        "df.head()"
      ],
      "execution_count": 4,
      "outputs": [
        {
          "output_type": "execute_result",
          "data": {
            "text/html": [
              "<div>\n",
              "<style scoped>\n",
              "    .dataframe tbody tr th:only-of-type {\n",
              "        vertical-align: middle;\n",
              "    }\n",
              "\n",
              "    .dataframe tbody tr th {\n",
              "        vertical-align: top;\n",
              "    }\n",
              "\n",
              "    .dataframe thead th {\n",
              "        text-align: right;\n",
              "    }\n",
              "</style>\n",
              "<table border=\"1\" class=\"dataframe\">\n",
              "  <thead>\n",
              "    <tr style=\"text-align: right;\">\n",
              "      <th></th>\n",
              "      <th>carat</th>\n",
              "      <th>cut</th>\n",
              "      <th>color</th>\n",
              "      <th>clarity</th>\n",
              "      <th>depth</th>\n",
              "      <th>table</th>\n",
              "      <th>price</th>\n",
              "      <th>x</th>\n",
              "      <th>y</th>\n",
              "      <th>z</th>\n",
              "    </tr>\n",
              "  </thead>\n",
              "  <tbody>\n",
              "    <tr>\n",
              "      <th>0</th>\n",
              "      <td>0.23</td>\n",
              "      <td>Ideal</td>\n",
              "      <td>E</td>\n",
              "      <td>SI2</td>\n",
              "      <td>61.5</td>\n",
              "      <td>55.0</td>\n",
              "      <td>326</td>\n",
              "      <td>3.95</td>\n",
              "      <td>3.98</td>\n",
              "      <td>2.43</td>\n",
              "    </tr>\n",
              "    <tr>\n",
              "      <th>1</th>\n",
              "      <td>0.21</td>\n",
              "      <td>Premium</td>\n",
              "      <td>E</td>\n",
              "      <td>SI1</td>\n",
              "      <td>59.8</td>\n",
              "      <td>61.0</td>\n",
              "      <td>326</td>\n",
              "      <td>3.89</td>\n",
              "      <td>3.84</td>\n",
              "      <td>2.31</td>\n",
              "    </tr>\n",
              "    <tr>\n",
              "      <th>2</th>\n",
              "      <td>0.23</td>\n",
              "      <td>Good</td>\n",
              "      <td>E</td>\n",
              "      <td>VS1</td>\n",
              "      <td>56.9</td>\n",
              "      <td>65.0</td>\n",
              "      <td>327</td>\n",
              "      <td>4.05</td>\n",
              "      <td>4.07</td>\n",
              "      <td>2.31</td>\n",
              "    </tr>\n",
              "    <tr>\n",
              "      <th>3</th>\n",
              "      <td>0.29</td>\n",
              "      <td>Premium</td>\n",
              "      <td>I</td>\n",
              "      <td>VS2</td>\n",
              "      <td>62.4</td>\n",
              "      <td>58.0</td>\n",
              "      <td>334</td>\n",
              "      <td>4.20</td>\n",
              "      <td>4.23</td>\n",
              "      <td>2.63</td>\n",
              "    </tr>\n",
              "    <tr>\n",
              "      <th>4</th>\n",
              "      <td>0.31</td>\n",
              "      <td>Good</td>\n",
              "      <td>J</td>\n",
              "      <td>SI2</td>\n",
              "      <td>63.3</td>\n",
              "      <td>58.0</td>\n",
              "      <td>335</td>\n",
              "      <td>4.34</td>\n",
              "      <td>4.35</td>\n",
              "      <td>2.75</td>\n",
              "    </tr>\n",
              "  </tbody>\n",
              "</table>\n",
              "</div>"
            ],
            "text/plain": [
              "   carat      cut color clarity  depth  table  price     x     y     z\n",
              "0   0.23    Ideal     E     SI2   61.5   55.0    326  3.95  3.98  2.43\n",
              "1   0.21  Premium     E     SI1   59.8   61.0    326  3.89  3.84  2.31\n",
              "2   0.23     Good     E     VS1   56.9   65.0    327  4.05  4.07  2.31\n",
              "3   0.29  Premium     I     VS2   62.4   58.0    334  4.20  4.23  2.63\n",
              "4   0.31     Good     J     SI2   63.3   58.0    335  4.34  4.35  2.75"
            ]
          },
          "metadata": {},
          "execution_count": 4
        }
      ]
    },
    {
      "cell_type": "markdown",
      "metadata": {
        "id": "uClu9pR67X63"
      },
      "source": [
        "ANALİZ: \n",
        "* price: dolar cinsinde fiyat ( 326– 18,823) carat: ağırlık (0.2–5.01) cut: kalite (Fair, Good, Very Good, Premium, Ideal) color: renk (from J (worst) to D (best)) clarity: temizliği, berraklığı (I1 (worst), SI2, SI1, VS2, VS1, VVS2, VVS1, IF (best)) x: length in mm (0–10.74) y: width in mm (0–58.9) z: depth in mm (0–31.8) depth: toplam derinlik yüzdesi = z / mean(x, y) = 2 * z / (x + y) (43–79) table: elmasın en geniş noktasına göre genişliği (43–95)\n",
        "\n",
        "* elmas çeşitlerinin detaylarını içeren tablo"
      ]
    },
    {
      "cell_type": "markdown",
      "metadata": {
        "id": "L61mCeGeBOUX"
      },
      "source": [
        "###1.2 Veri seti yapısal bilgileri"
      ]
    },
    {
      "cell_type": "code",
      "metadata": {
        "colab": {
          "base_uri": "https://localhost:8080/"
        },
        "id": "dhwRcF9HBRD9",
        "outputId": "9b742277-f910-4c48-c038-1c49f178fda4"
      },
      "source": [
        "df.info()"
      ],
      "execution_count": 5,
      "outputs": [
        {
          "output_type": "stream",
          "name": "stdout",
          "text": [
            "<class 'pandas.core.frame.DataFrame'>\n",
            "RangeIndex: 53940 entries, 0 to 53939\n",
            "Data columns (total 10 columns):\n",
            " #   Column   Non-Null Count  Dtype   \n",
            "---  ------   --------------  -----   \n",
            " 0   carat    53940 non-null  float64 \n",
            " 1   cut      53940 non-null  category\n",
            " 2   color    53940 non-null  category\n",
            " 3   clarity  53940 non-null  category\n",
            " 4   depth    53940 non-null  float64 \n",
            " 5   table    53940 non-null  float64 \n",
            " 6   price    53940 non-null  int64   \n",
            " 7   x        53940 non-null  float64 \n",
            " 8   y        53940 non-null  float64 \n",
            " 9   z        53940 non-null  float64 \n",
            "dtypes: category(3), float64(6), int64(1)\n",
            "memory usage: 3.0 MB\n"
          ]
        }
      ]
    },
    {
      "cell_type": "markdown",
      "metadata": {
        "id": "kMlosKqmBbLF"
      },
      "source": [
        "ANALİZ: \n",
        "* bir pandas dataframe i, 53940 gözlem var, 10 değişken var, object bir kategorik değişken olarak düşünülmelidir. bunun dışındaki tüm değişkenler kesikli ve sürekli değişkenledir category(3), float64(6), int64(1)"
      ]
    },
    {
      "cell_type": "code",
      "metadata": {
        "colab": {
          "base_uri": "https://localhost:8080/"
        },
        "id": "WW3xc9DcBX6W",
        "outputId": "00a5a84f-4902-4283-e303-9143d478b3f0"
      },
      "source": [
        "df.dtypes #sadece değişken bilgileri"
      ],
      "execution_count": 6,
      "outputs": [
        {
          "output_type": "execute_result",
          "data": {
            "text/plain": [
              "carat       float64\n",
              "cut        category\n",
              "color      category\n",
              "clarity    category\n",
              "depth       float64\n",
              "table       float64\n",
              "price         int64\n",
              "x           float64\n",
              "y           float64\n",
              "z           float64\n",
              "dtype: object"
            ]
          },
          "metadata": {},
          "execution_count": 6
        }
      ]
    },
    {
      "cell_type": "code",
      "metadata": {
        "colab": {
          "base_uri": "https://localhost:8080/"
        },
        "id": "7eG_23ZhCeJ1",
        "outputId": "6c4771f6-8b9d-40b2-a29d-3f6b85fa80b1"
      },
      "source": [
        "import pandas as pd # değişkenlerin arasındaki object öğesini categorical değişkene çevirmeliyiz\n",
        "df.method = pd.Categorical(df.color);\n",
        "df.dtypes"
      ],
      "execution_count": 7,
      "outputs": [
        {
          "output_type": "stream",
          "name": "stderr",
          "text": [
            "/usr/local/lib/python3.7/dist-packages/ipykernel_launcher.py:2: UserWarning: Pandas doesn't allow columns to be created via a new attribute name - see https://pandas.pydata.org/pandas-docs/stable/indexing.html#attribute-access\n",
            "  \n"
          ]
        },
        {
          "output_type": "execute_result",
          "data": {
            "text/plain": [
              "carat       float64\n",
              "cut        category\n",
              "color      category\n",
              "clarity    category\n",
              "depth       float64\n",
              "table       float64\n",
              "price         int64\n",
              "x           float64\n",
              "y           float64\n",
              "z           float64\n",
              "dtype: object"
            ]
          },
          "metadata": {},
          "execution_count": 7
        }
      ]
    },
    {
      "cell_type": "markdown",
      "metadata": {
        "id": "3nMGrAPQDjKz"
      },
      "source": [
        "##2. Veri Seti Betimsel İstatistikleri\n",
        "\n",
        "her bir değişkenin;\n",
        "* dağılım ölçüleri\n",
        "* eğilim ölçüleri\n",
        "* frekans dağılımı ölçülmek istenir."
      ]
    },
    {
      "cell_type": "code",
      "metadata": {
        "colab": {
          "base_uri": "https://localhost:8080/",
          "height": 0
        },
        "id": "IxvuOV7uDnSw",
        "outputId": "bde1e408-b0d4-4a37-9f5a-d10ace909b2d"
      },
      "source": [
        "df.describe().T"
      ],
      "execution_count": 8,
      "outputs": [
        {
          "output_type": "execute_result",
          "data": {
            "text/html": [
              "<div>\n",
              "<style scoped>\n",
              "    .dataframe tbody tr th:only-of-type {\n",
              "        vertical-align: middle;\n",
              "    }\n",
              "\n",
              "    .dataframe tbody tr th {\n",
              "        vertical-align: top;\n",
              "    }\n",
              "\n",
              "    .dataframe thead th {\n",
              "        text-align: right;\n",
              "    }\n",
              "</style>\n",
              "<table border=\"1\" class=\"dataframe\">\n",
              "  <thead>\n",
              "    <tr style=\"text-align: right;\">\n",
              "      <th></th>\n",
              "      <th>count</th>\n",
              "      <th>mean</th>\n",
              "      <th>std</th>\n",
              "      <th>min</th>\n",
              "      <th>25%</th>\n",
              "      <th>50%</th>\n",
              "      <th>75%</th>\n",
              "      <th>max</th>\n",
              "    </tr>\n",
              "  </thead>\n",
              "  <tbody>\n",
              "    <tr>\n",
              "      <th>carat</th>\n",
              "      <td>53940.0</td>\n",
              "      <td>0.797940</td>\n",
              "      <td>0.474011</td>\n",
              "      <td>0.2</td>\n",
              "      <td>0.40</td>\n",
              "      <td>0.70</td>\n",
              "      <td>1.04</td>\n",
              "      <td>5.01</td>\n",
              "    </tr>\n",
              "    <tr>\n",
              "      <th>depth</th>\n",
              "      <td>53940.0</td>\n",
              "      <td>61.749405</td>\n",
              "      <td>1.432621</td>\n",
              "      <td>43.0</td>\n",
              "      <td>61.00</td>\n",
              "      <td>61.80</td>\n",
              "      <td>62.50</td>\n",
              "      <td>79.00</td>\n",
              "    </tr>\n",
              "    <tr>\n",
              "      <th>table</th>\n",
              "      <td>53940.0</td>\n",
              "      <td>57.457184</td>\n",
              "      <td>2.234491</td>\n",
              "      <td>43.0</td>\n",
              "      <td>56.00</td>\n",
              "      <td>57.00</td>\n",
              "      <td>59.00</td>\n",
              "      <td>95.00</td>\n",
              "    </tr>\n",
              "    <tr>\n",
              "      <th>price</th>\n",
              "      <td>53940.0</td>\n",
              "      <td>3932.799722</td>\n",
              "      <td>3989.439738</td>\n",
              "      <td>326.0</td>\n",
              "      <td>950.00</td>\n",
              "      <td>2401.00</td>\n",
              "      <td>5324.25</td>\n",
              "      <td>18823.00</td>\n",
              "    </tr>\n",
              "    <tr>\n",
              "      <th>x</th>\n",
              "      <td>53940.0</td>\n",
              "      <td>5.731157</td>\n",
              "      <td>1.121761</td>\n",
              "      <td>0.0</td>\n",
              "      <td>4.71</td>\n",
              "      <td>5.70</td>\n",
              "      <td>6.54</td>\n",
              "      <td>10.74</td>\n",
              "    </tr>\n",
              "    <tr>\n",
              "      <th>y</th>\n",
              "      <td>53940.0</td>\n",
              "      <td>5.734526</td>\n",
              "      <td>1.142135</td>\n",
              "      <td>0.0</td>\n",
              "      <td>4.72</td>\n",
              "      <td>5.71</td>\n",
              "      <td>6.54</td>\n",
              "      <td>58.90</td>\n",
              "    </tr>\n",
              "    <tr>\n",
              "      <th>z</th>\n",
              "      <td>53940.0</td>\n",
              "      <td>3.538734</td>\n",
              "      <td>0.705699</td>\n",
              "      <td>0.0</td>\n",
              "      <td>2.91</td>\n",
              "      <td>3.53</td>\n",
              "      <td>4.04</td>\n",
              "      <td>31.80</td>\n",
              "    </tr>\n",
              "  </tbody>\n",
              "</table>\n",
              "</div>"
            ],
            "text/plain": [
              "         count         mean          std  ...      50%      75%       max\n",
              "carat  53940.0     0.797940     0.474011  ...     0.70     1.04      5.01\n",
              "depth  53940.0    61.749405     1.432621  ...    61.80    62.50     79.00\n",
              "table  53940.0    57.457184     2.234491  ...    57.00    59.00     95.00\n",
              "price  53940.0  3932.799722  3989.439738  ...  2401.00  5324.25  18823.00\n",
              "x      53940.0     5.731157     1.121761  ...     5.70     6.54     10.74\n",
              "y      53940.0     5.734526     1.142135  ...     5.71     6.54     58.90\n",
              "z      53940.0     3.538734     0.705699  ...     3.53     4.04     31.80\n",
              "\n",
              "[7 rows x 8 columns]"
            ]
          },
          "metadata": {},
          "execution_count": 8
        }
      ]
    },
    {
      "cell_type": "markdown",
      "metadata": {
        "id": "VrqdFHDXD46J"
      },
      "source": [
        "bu fonksiyon eksik gözlemleri göz ardı eder ve kadegorik değişkenleri hesaplamaz.\n",
        "\n",
        "\n"
      ]
    },
    {
      "cell_type": "markdown",
      "metadata": {
        "id": "C-dQeb4EUPJZ"
      },
      "source": [
        "## 3. Eksik Değerlerin İncelenmesi (veri ön işleme)"
      ]
    },
    {
      "cell_type": "code",
      "metadata": {
        "colab": {
          "base_uri": "https://localhost:8080/"
        },
        "id": "5lkIeBZoDq0q",
        "outputId": "f3246d45-3718-4f4c-f4b3-6c4289d59072"
      },
      "source": [
        "df.isnull().sum() #kolonlarda kaçar tane boş değer var"
      ],
      "execution_count": 9,
      "outputs": [
        {
          "output_type": "execute_result",
          "data": {
            "text/plain": [
              "carat      0\n",
              "cut        0\n",
              "color      0\n",
              "clarity    0\n",
              "depth      0\n",
              "table      0\n",
              "price      0\n",
              "x          0\n",
              "y          0\n",
              "z          0\n",
              "dtype: int64"
            ]
          },
          "metadata": {},
          "execution_count": 9
        }
      ]
    },
    {
      "cell_type": "code",
      "metadata": {
        "id": "3kswOsWf693O"
      },
      "source": [
        "df[\"carat\"].fillna(0, inplace = True) #ilgili değişkendeki null değerlere 0 ata ve bunu dataya yaz (inplace)"
      ],
      "execution_count": 10,
      "outputs": []
    },
    {
      "cell_type": "code",
      "metadata": {
        "id": "jhz7z7Dq7qSK"
      },
      "source": [
        "df[\"carat\"].fillna(df.carat.mean(), inplace = True) #ilgili değişkendeki null değerlere ortalamayı ata ve bunu dataya yaz (inplace)"
      ],
      "execution_count": 11,
      "outputs": []
    },
    {
      "cell_type": "markdown",
      "metadata": {
        "id": "ZM2oZ043-jIu"
      },
      "source": [
        "##4. Kategorik Değişken Özetleri"
      ]
    },
    {
      "cell_type": "code",
      "metadata": {
        "colab": {
          "base_uri": "https://localhost:8080/",
          "height": 0
        },
        "id": "iaFs1r9l-k8m",
        "outputId": "7efb2c2b-5376-4fd6-e406-fc5d7c875e7c"
      },
      "source": [
        "kat_df = df.select_dtypes(include = [\"object\",\"category\"]) # sadece kategorik değişkenlerin oldugu kolonları getir\n",
        "kat_df.head()"
      ],
      "execution_count": 12,
      "outputs": [
        {
          "output_type": "execute_result",
          "data": {
            "text/html": [
              "<div>\n",
              "<style scoped>\n",
              "    .dataframe tbody tr th:only-of-type {\n",
              "        vertical-align: middle;\n",
              "    }\n",
              "\n",
              "    .dataframe tbody tr th {\n",
              "        vertical-align: top;\n",
              "    }\n",
              "\n",
              "    .dataframe thead th {\n",
              "        text-align: right;\n",
              "    }\n",
              "</style>\n",
              "<table border=\"1\" class=\"dataframe\">\n",
              "  <thead>\n",
              "    <tr style=\"text-align: right;\">\n",
              "      <th></th>\n",
              "      <th>cut</th>\n",
              "      <th>color</th>\n",
              "      <th>clarity</th>\n",
              "    </tr>\n",
              "  </thead>\n",
              "  <tbody>\n",
              "    <tr>\n",
              "      <th>0</th>\n",
              "      <td>Ideal</td>\n",
              "      <td>E</td>\n",
              "      <td>SI2</td>\n",
              "    </tr>\n",
              "    <tr>\n",
              "      <th>1</th>\n",
              "      <td>Premium</td>\n",
              "      <td>E</td>\n",
              "      <td>SI1</td>\n",
              "    </tr>\n",
              "    <tr>\n",
              "      <th>2</th>\n",
              "      <td>Good</td>\n",
              "      <td>E</td>\n",
              "      <td>VS1</td>\n",
              "    </tr>\n",
              "    <tr>\n",
              "      <th>3</th>\n",
              "      <td>Premium</td>\n",
              "      <td>I</td>\n",
              "      <td>VS2</td>\n",
              "    </tr>\n",
              "    <tr>\n",
              "      <th>4</th>\n",
              "      <td>Good</td>\n",
              "      <td>J</td>\n",
              "      <td>SI2</td>\n",
              "    </tr>\n",
              "  </tbody>\n",
              "</table>\n",
              "</div>"
            ],
            "text/plain": [
              "       cut color clarity\n",
              "0    Ideal     E     SI2\n",
              "1  Premium     E     SI1\n",
              "2     Good     E     VS1\n",
              "3  Premium     I     VS2\n",
              "4     Good     J     SI2"
            ]
          },
          "metadata": {},
          "execution_count": 12
        }
      ]
    },
    {
      "cell_type": "code",
      "metadata": {
        "colab": {
          "base_uri": "https://localhost:8080/"
        },
        "id": "Svq4q3AMERHQ",
        "outputId": "9de6019b-b4e7-4933-ffdb-85ee63c0ab46"
      },
      "source": [
        "kat_df[\"cut\"].value_counts() #method değişkenine göre frekans sayıları"
      ],
      "execution_count": 13,
      "outputs": [
        {
          "output_type": "execute_result",
          "data": {
            "text/plain": [
              "Ideal        21551\n",
              "Premium      13791\n",
              "Very Good    12082\n",
              "Good          4906\n",
              "Fair          1610\n",
              "Name: cut, dtype: int64"
            ]
          },
          "metadata": {},
          "execution_count": 13
        }
      ]
    },
    {
      "cell_type": "code",
      "metadata": {
        "colab": {
          "base_uri": "https://localhost:8080/"
        },
        "id": "vVVROxmo_Cw1",
        "outputId": "2a3ce00c-1aa2-4f02-8a2d-42be19b49e7c"
      },
      "source": [
        "kat_df[\"cut\"].value_counts().count() #method değişkeninin sınıf sayısı"
      ],
      "execution_count": 14,
      "outputs": [
        {
          "output_type": "execute_result",
          "data": {
            "text/plain": [
              "5"
            ]
          },
          "metadata": {},
          "execution_count": 14
        }
      ]
    },
    {
      "cell_type": "code",
      "metadata": {
        "colab": {
          "base_uri": "https://localhost:8080/",
          "height": 0
        },
        "id": "D0qI2IphDksM",
        "outputId": "39f0b241-0d73-44cf-b9bb-a9e79b497e52"
      },
      "source": [
        "df[\"cut\"].value_counts().plot.barh(); #method değişkeninin frekans sayısı grafiği"
      ],
      "execution_count": 15,
      "outputs": [
        {
          "output_type": "display_data",
          "data": {
            "image/png": "[encoded data removed]",
            "text/plain": [
              "<Figure size 432x288 with 1 Axes>"
            ]
          },
          "metadata": {
            "needs_background": "light"
          }
        }
      ]
    },
    {
      "cell_type": "markdown",
      "metadata": {
        "id": "NDG1IHdaONGN"
      },
      "source": [
        "##5. Sürekli Değişken Özetleri"
      ]
    },
    {
      "cell_type": "code",
      "metadata": {
        "colab": {
          "base_uri": "https://localhost:8080/",
          "height": 0
        },
        "id": "Xz36KhUcOSw-",
        "outputId": "e4ef2556-70e7-4bba-a219-67e90ca7b06f"
      },
      "source": [
        "df_num = df.select_dtypes(include=[\"float64\",\"int64\"]) #sadece numerik değişken kolonları\n",
        "df_num.head()"
      ],
      "execution_count": 16,
      "outputs": [
        {
          "output_type": "execute_result",
          "data": {
            "text/html": [
              "<div>\n",
              "<style scoped>\n",
              "    .dataframe tbody tr th:only-of-type {\n",
              "        vertical-align: middle;\n",
              "    }\n",
              "\n",
              "    .dataframe tbody tr th {\n",
              "        vertical-align: top;\n",
              "    }\n",
              "\n",
              "    .dataframe thead th {\n",
              "        text-align: right;\n",
              "    }\n",
              "</style>\n",
              "<table border=\"1\" class=\"dataframe\">\n",
              "  <thead>\n",
              "    <tr style=\"text-align: right;\">\n",
              "      <th></th>\n",
              "      <th>carat</th>\n",
              "      <th>depth</th>\n",
              "      <th>table</th>\n",
              "      <th>price</th>\n",
              "      <th>x</th>\n",
              "      <th>y</th>\n",
              "      <th>z</th>\n",
              "    </tr>\n",
              "  </thead>\n",
              "  <tbody>\n",
              "    <tr>\n",
              "      <th>0</th>\n",
              "      <td>0.23</td>\n",
              "      <td>61.5</td>\n",
              "      <td>55.0</td>\n",
              "      <td>326</td>\n",
              "      <td>3.95</td>\n",
              "      <td>3.98</td>\n",
              "      <td>2.43</td>\n",
              "    </tr>\n",
              "    <tr>\n",
              "      <th>1</th>\n",
              "      <td>0.21</td>\n",
              "      <td>59.8</td>\n",
              "      <td>61.0</td>\n",
              "      <td>326</td>\n",
              "      <td>3.89</td>\n",
              "      <td>3.84</td>\n",
              "      <td>2.31</td>\n",
              "    </tr>\n",
              "    <tr>\n",
              "      <th>2</th>\n",
              "      <td>0.23</td>\n",
              "      <td>56.9</td>\n",
              "      <td>65.0</td>\n",
              "      <td>327</td>\n",
              "      <td>4.05</td>\n",
              "      <td>4.07</td>\n",
              "      <td>2.31</td>\n",
              "    </tr>\n",
              "    <tr>\n",
              "      <th>3</th>\n",
              "      <td>0.29</td>\n",
              "      <td>62.4</td>\n",
              "      <td>58.0</td>\n",
              "      <td>334</td>\n",
              "      <td>4.20</td>\n",
              "      <td>4.23</td>\n",
              "      <td>2.63</td>\n",
              "    </tr>\n",
              "    <tr>\n",
              "      <th>4</th>\n",
              "      <td>0.31</td>\n",
              "      <td>63.3</td>\n",
              "      <td>58.0</td>\n",
              "      <td>335</td>\n",
              "      <td>4.34</td>\n",
              "      <td>4.35</td>\n",
              "      <td>2.75</td>\n",
              "    </tr>\n",
              "  </tbody>\n",
              "</table>\n",
              "</div>"
            ],
            "text/plain": [
              "   carat  depth  table  price     x     y     z\n",
              "0   0.23   61.5   55.0    326  3.95  3.98  2.43\n",
              "1   0.21   59.8   61.0    326  3.89  3.84  2.31\n",
              "2   0.23   56.9   65.0    327  4.05  4.07  2.31\n",
              "3   0.29   62.4   58.0    334  4.20  4.23  2.63\n",
              "4   0.31   63.3   58.0    335  4.34  4.35  2.75"
            ]
          },
          "metadata": {},
          "execution_count": 16
        }
      ]
    },
    {
      "cell_type": "code",
      "metadata": {
        "colab": {
          "base_uri": "https://localhost:8080/"
        },
        "id": "afIdxrGlOlgW",
        "outputId": "19a5812f-b9fd-4a06-8de1-82bbecfb298b"
      },
      "source": [
        "df_num[\"carat\"].describe().T #tek bi değişkenin betimsel istatistikleri"
      ],
      "execution_count": 17,
      "outputs": [
        {
          "output_type": "execute_result",
          "data": {
            "text/plain": [
              "count    53940.000000\n",
              "mean         0.797940\n",
              "std          0.474011\n",
              "min          0.200000\n",
              "25%          0.400000\n",
              "50%          0.700000\n",
              "75%          1.040000\n",
              "max          5.010000\n",
              "Name: carat, dtype: float64"
            ]
          },
          "metadata": {},
          "execution_count": 17
        }
      ]
    },
    {
      "cell_type": "markdown",
      "metadata": {
        "id": "1gY-O3CBPhiE"
      },
      "source": [
        "### Betimsel istatistiklerin isimlerinin değiştirilmesi"
      ]
    },
    {
      "cell_type": "code",
      "metadata": {
        "colab": {
          "base_uri": "https://localhost:8080/"
        },
        "id": "Tl-pIBGXO8Wk",
        "outputId": "4d36a0f7-c5a4-4817-da61-e7a03d2bcd99"
      },
      "source": [
        "print(\"Ortalama: \" + str(df_num[\"carat\"].mean()))\n",
        "print(\"Dolu Gözlem Sayısı: \" + str(df_num[\"carat\"].count())) \n",
        "print(\"Maksimum Değer: \" + str(df_num[\"carat\"].max()))\n",
        "print(\"Minimum Değer: \" + str(df_num[\"carat\"].min()))\n",
        "print(\"Medyan: \" + str(df_num[\"carat\"].median()))\n",
        "print(\"Standart Sapma: \" + str(df_num[\"carat\"].std()))"
      ],
      "execution_count": 18,
      "outputs": [
        {
          "output_type": "stream",
          "name": "stdout",
          "text": [
            "Ortalama: 0.7979397478679852\n",
            "Dolu Gözlem Sayısı: 53940\n",
            "Maksimum Değer: 5.01\n",
            "Minimum Değer: 0.2\n",
            "Medyan: 0.7\n",
            "Standart Sapma: 0.47401124440538067\n"
          ]
        }
      ]
    },
    {
      "cell_type": "markdown",
      "metadata": {
        "id": "wD3YvlpUZZLw"
      },
      "source": [
        "## 6. Ordinal değişkenlerin tanımlanması (veri ön işleme)\n",
        "* bazı değişkenlerin ordinal olduğu görünüyor. (cut,clarity). bunların ordinal olduğunun belirtilmesi gerekir."
      ]
    },
    {
      "cell_type": "code",
      "metadata": {
        "colab": {
          "base_uri": "https://localhost:8080/"
        },
        "id": "P_iC2JfxZtp4",
        "outputId": "97d87b85-c676-455b-9c30-bb67e6225302"
      },
      "source": [
        "df.cut.head(1) "
      ],
      "execution_count": 19,
      "outputs": [
        {
          "output_type": "execute_result",
          "data": {
            "text/plain": [
              "0    Ideal\n",
              "Name: cut, dtype: category\n",
              "Categories (5, object): ['Ideal', 'Premium', 'Very Good', 'Good', 'Fair']"
            ]
          },
          "metadata": {},
          "execution_count": 19
        }
      ]
    },
    {
      "cell_type": "markdown",
      "metadata": {
        "id": "JmTgjIPXa9rw"
      },
      "source": [
        "categorik değişkenin aralarında bir sıralama olmadığı görülüyor"
      ]
    },
    {
      "cell_type": "code",
      "metadata": {
        "id": "zfwZS0LHZxhw"
      },
      "source": [
        "from pandas.api.types import CategoricalDtype #import edilmeli\n",
        "cut_categoriler = [\"Fair\",\"Good\",\"Very Good\",\"Premium\",\"Ideal\"] #istediğimiz sıralamada bir liste oluşturuyoruz\n",
        "df.cut = df.cut.astype(CategoricalDtype(cut_categoriler,ordered = True))  #ordinal yapının cut değişkenine bizim listemizdeki sırayla işlenmesi "
      ],
      "execution_count": 20,
      "outputs": []
    },
    {
      "cell_type": "code",
      "metadata": {
        "colab": {
          "base_uri": "https://localhost:8080/"
        },
        "id": "bfKs-tFWaAZv",
        "outputId": "47d7441b-6196-4542-dea6-f1c5362c1511"
      },
      "source": [
        "df.cut.head(1) # tekrar çalışırıyoruz"
      ],
      "execution_count": 21,
      "outputs": [
        {
          "output_type": "execute_result",
          "data": {
            "text/plain": [
              "0    Ideal\n",
              "Name: cut, dtype: category\n",
              "Categories (5, object): ['Fair' < 'Good' < 'Very Good' < 'Premium' < 'Ideal']"
            ]
          },
          "metadata": {},
          "execution_count": 21
        }
      ]
    },
    {
      "cell_type": "markdown",
      "metadata": {
        "id": "kIH6KYK5bTH6"
      },
      "source": [
        "ordinal bir değişken olarak atadık ve sıralama bizim isedigimiz şekilde."
      ]
    },
    {
      "cell_type": "markdown",
      "metadata": {
        "id": "TU8ICw2Uxrsr"
      },
      "source": [
        "#**Veri Görselleştirme**"
      ]
    },
    {
      "cell_type": "markdown",
      "metadata": {
        "id": "onV-A-sw4uvG"
      },
      "source": [
        "##1. Dağılım Grafikleri"
      ]
    },
    {
      "cell_type": "markdown",
      "metadata": {
        "id": "dpUcyi9lyVkQ"
      },
      "source": [
        "###1.1 Kategorik Değişkenlerin Görselleştirilmesi (*Barplot*)\n",
        "* kategorik değişkenlerin göreslleştirilmesi\n",
        "* gelnel olarak grafikler için seaborn kütüphanesi kullanılır (yüksek seviye grafikleme) ama bazen de pandas kütüphanesinden grafiklere bakmak isteyebiliriz."
      ]
    },
    {
      "cell_type": "code",
      "metadata": {
        "colab": {
          "base_uri": "https://localhost:8080/",
          "height": 279
        },
        "id": "UzlXPDFH5t3A",
        "outputId": "0f339068-29ad-4a7e-9b4a-04bcc09c45a5"
      },
      "source": [
        "sns.barplot(x = \"cut\", y = df.cut.index, data = df);"
      ],
      "execution_count": 22,
      "outputs": [
        {
          "output_type": "display_data",
          "data": {
            "image/png": "[encoded data removed]",
            "text/plain": [
              "<Figure size 432x288 with 1 Axes>"
            ]
          },
          "metadata": {
            "needs_background": "light"
          }
        }
      ]
    },
    {
      "cell_type": "markdown",
      "metadata": {
        "id": "3fYm8aHqD5oY"
      },
      "source": [
        "cut değişkeninin sınıflarının frekansları"
      ]
    },
    {
      "cell_type": "code",
      "metadata": {
        "colab": {
          "base_uri": "https://localhost:8080/",
          "height": 279
        },
        "id": "wRzYLshfFgA0",
        "outputId": "4cd1ee84-06f3-4fe6-95ab-fa7d9b2018b6"
      },
      "source": [
        "sns.barplot(x = \"cut\", y = \"price\", hue=\"color\",data = df); #yeni bir boyut daha ekliyoruz."
      ],
      "execution_count": 23,
      "outputs": [
        {
          "output_type": "display_data",
          "data": {
            "image/png": "[encoded data removed]",
            "text/plain": [
              "<Figure size 432x288 with 1 Axes>"
            ]
          },
          "metadata": {
            "needs_background": "light"
          }
        }
      ]
    },
    {
      "cell_type": "markdown",
      "metadata": {
        "id": "rngT0bgVJjgo"
      },
      "source": [
        "* kategorik değişkenin görselleştirmesi\n",
        "* iki değişkenin aynı grafikte görüntülenmesi. bunun için seaborn dan catplot kullanılır\n",
        "* price değişkenini etkileyen değişkenlerden biri de color değişkenidir. cut değişkeni ile birlikte değerlendirirldiğinde color değişkeninin price değişkenini nasıl etkilediğini görebiliyoruz. bu gibi çaprazlamalarda catplot da bullanılabilir"
      ]
    },
    {
      "cell_type": "markdown",
      "metadata": {
        "id": "wryI-t8qLYAl"
      },
      "source": [
        "###1.2 Sayısal Değişkenlerin Görselleştirilmesi (*Histogram ve Yoğunluk*)\n",
        "\n",
        "* Displot"
      ]
    },
    {
      "cell_type": "code",
      "metadata": {
        "colab": {
          "base_uri": "https://localhost:8080/",
          "height": 369
        },
        "id": "YtVVk4GmNJ-9",
        "outputId": "05c0c8c0-b76f-401a-abff-0c740e845576"
      },
      "source": [
        "sns.displot(df.price, bins = 10 , kde = True);"
      ],
      "execution_count": 29,
      "outputs": [
        {
          "output_type": "display_data",
          "data": {
            "image/png": "[encoded data removed]",
            "text/plain": [
              "<Figure size 360x360 with 1 Axes>"
            ]
          },
          "metadata": {
            "needs_background": "light"
          }
        }
      ]
    },
    {
      "cell_type": "markdown",
      "metadata": {
        "id": "DLUyliUrx48t"
      },
      "source": [
        "dağılım görselleştirmek için kullanılır. kde = oalsılık yoğunluk fonk, bins = çubuk sayısı\n",
        "\n",
        "analiz: \n",
        "* 0 la 2400 arasında, 25000 sayı var,\n",
        "* 2400 le 3200 arasında yaklaşık 9000 sayı var,\n",
        "* en çok sayı 0 la 24000 arasında gibi görünüyor\n",
        "* grafik yayvan gibi st sapması yüksek\n",
        "* çarpık bir grafik\n",
        "* medyanı ile ortalaması arasında ciddi fark var\n",
        "* iki tepeli bir yapı var bu veriyi başka bir değişken etkilemiş.\n",
        "---------------------------\n",
        "\n",
        "\n",
        "\n",
        "\n",
        "\n",
        "\n"
      ]
    },
    {
      "cell_type": "markdown",
      "metadata": {
        "id": "JSLRf2b4OycC"
      },
      "source": [
        "* Kdeplot"
      ]
    },
    {
      "cell_type": "code",
      "metadata": {
        "colab": {
          "base_uri": "https://localhost:8080/",
          "height": 279
        },
        "id": "xVld5O9HwqeE",
        "outputId": "c2e60b5b-9243-450d-9f32-feb015962437"
      },
      "source": [
        "sns.kdeplot(df.price, shade = True); # sadece kde nin"
      ],
      "execution_count": 31,
      "outputs": [
        {
          "output_type": "display_data",
          "data": {
            "image/png": "[encoded data removed]",
            "text/plain": [
              "<Figure size 432x288 with 1 Axes>"
            ]
          },
          "metadata": {
            "needs_background": "light"
          }
        }
      ]
    },
    {
      "cell_type": "markdown",
      "metadata": {
        "id": "uUOakmX1OX67"
      },
      "source": [
        "* FaceGrid\n",
        "\n"
      ]
    },
    {
      "cell_type": "code",
      "metadata": {
        "colab": {
          "base_uri": "https://localhost:8080/",
          "height": 369
        },
        "id": "CSxvWX_b0K3N",
        "outputId": "96e326b6-0551-4752-c4c4-dc76e95c2d68"
      },
      "source": [
        "#yeni bir boyut daha ekliyoruz\n",
        "(sns\n",
        " .FacetGrid(df, #veri\n",
        "              hue = \"cut\",#yeni boyut\n",
        "              height = 5, #yükseklik\n",
        "              xlim = (0, 10000)) #x ekseni 0 la 10000 arasında olsun\n",
        " .map(sns.kdeplot, \"price\", shade= True) #price değikenini mapliyoruz\n",
        " .add_legend()\n",
        ");"
      ],
      "execution_count": 35,
      "outputs": [
        {
          "output_type": "display_data",
          "data": {
            "image/png": "[encoded data removed]",
            "text/plain": [
              "<Figure size 447.5x360 with 1 Axes>"
            ]
          },
          "metadata": {
            "needs_background": "light"
          }
        }
      ]
    },
    {
      "cell_type": "markdown",
      "metadata": {
        "id": "21H9KJl319D8"
      },
      "source": [
        "price değişkeninin dağılımını etkileyen cut değişkeninin detaylarını görüntülüyoruz.\n",
        "\n",
        "* normal bir dünyada bir sayısal değişkenin normal dağılmasını bekleriz. yani ortadan şişik ve tek tepeli. burda sola yaslanmış ve iki tepeli bir yapı var.\n",
        "* cut değişkeninin ideal sınıfının price değişkeninde 0 la 2000 arasında da fazla yer kaplıyor.\n",
        "* price değişkeninde 6000 den sonra tüm cut değişkenlerinin aynı frekanslarda gözlemleniyor. \n",
        "* tüm kalite sınıfların her fiyat aralıklarında çeşitli kümelenmeleri var.\n",
        "* dağılımın 2 tepeli olmasındaki en büyük etkenin fair cut sınıfı oldugunu görüyoruz.\n",
        "----------------------"
      ]
    },
    {
      "cell_type": "markdown",
      "metadata": {
        "id": "tb3Hd6jaOicF"
      },
      "source": [
        "* Catplot (çaprazlama)"
      ]
    },
    {
      "cell_type": "code",
      "metadata": {
        "colab": {
          "base_uri": "https://localhost:8080/",
          "height": 369
        },
        "id": "cbr-r6WB1abr",
        "outputId": "c55ee9b6-8704-46bf-dd27-738e594f4c36"
      },
      "source": [
        "#çaprazlama\n",
        "sns.catplot(x = \"cut\", y = \"price\", hue = \"color\", kind = \"point\", data = df);"
      ],
      "execution_count": 45,
      "outputs": [
        {
          "output_type": "display_data",
          "data": {
            "image/png": "[encoded data removed]",
            "text/plain": [
              "<Figure size 403.75x360 with 1 Axes>"
            ]
          },
          "metadata": {
            "needs_background": "light"
          }
        }
      ]
    },
    {
      "cell_type": "markdown",
      "metadata": {
        "id": "Bs354j4dHWc6"
      },
      "source": [
        "analiz: \n",
        "* cut değişkeninin price değişkeni üzerindeki etkisinin color değişkeni bazında dağılımını görüyoruz.\n",
        "* ör ideal sınıfının içerisinde birden fazla renk olması ve birbirlerinden uzak olması price değişkenini etkileyen bir bilgi oldugunu gösteriyor.\n",
        "* ör good sınıfında 3000 ile 4000 arasındaki price larda rengin çok etkili oldugunu görmüyoruz."
      ]
    },
    {
      "cell_type": "code",
      "metadata": {
        "id": "3wCzwWHOHbe7"
      },
      "source": [
        ""
      ],
      "execution_count": null,
      "outputs": []
    }
  ]
}