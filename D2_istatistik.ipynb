{
  "nbformat": 4,
  "nbformat_minor": 0,
  "metadata": {
    "colab": {
      "name": "istatistik.ipynb",
      "provenance": [],
      "toc_visible": true,
      "authorship_tag": "ABX9TyNkiDJJ4KPN+USwTF2+Nyor",
      "include_colab_link": true
    },
    "kernelspec": {
      "name": "python3",
      "display_name": "Python 3"
    },
    "language_info": {
      "name": "python"
    }
  },
  "cells": [
    {
      "cell_type": "markdown",
      "metadata": {
        "id": "view-in-github",
        "colab_type": "text"
      },
      "source": [
        "<a href=\"https://colab.research.google.com/github/mustafahunerli/veri_bilimi_kurs_kodlari_py_edit/blob/main/D2_istatistik.ipynb\" target=\"_parent\"><img src=\"https://colab.research.google.com/assets/colab-badge.svg\" alt=\"Open In Colab\"/></a>"
      ]
    },
    {
      "cell_type": "markdown",
      "metadata": {
        "id": "GWE6S_zvxgA0"
      },
      "source": [
        "Veri Bilimi İçin İstatistik\n",
        "1. Örnek Teorisi\n",
        "  * 1.1 Örneklem, Örneklem Dağılımı, Limit Teoremi\n",
        "2. Betimsel İstatistikler\n",
        "  * 2.1 Genel İstatistikler\n",
        "  * 2.2 Kovaryans Ve Korelasyon\n",
        "3. Güven Aralıkları\n",
        "4. Olasılık Dağılımları\n",
        "  * 4.1 Kesikli Olasılık Dağılımı\n",
        "    * 4.1.1 Bernoilli\n",
        "    * 4.1.2 Binom\n",
        "    * 4.1.3 Poisson\n",
        "  * 4.2 Süreklİ Olasılık Dağılımları\n",
        "    * 4.2.1 Normal\n",
        "    * 4.2.2 Uniform\n",
        "    * 4.2.3 Üstel\n",
        "5. Hipotez Testleri\n",
        "6. Varyans Analizi\n",
        "7. Korelasyon Analizi"
      ]
    },
    {
      "cell_type": "markdown",
      "metadata": {
        "id": "cjYvdsDT6Lp2"
      },
      "source": [
        "#1. Örnek Teorisi"
      ]
    },
    {
      "cell_type": "markdown",
      "metadata": {
        "id": "W0tWMoLH-dJ6"
      },
      "source": [
        "##1.1 Örneklem, Örneklem Dağılımı, Limit Teoremi\n",
        "\n",
        "10.000 kişi arasından 100 kişilik örneklem çekelim ve oralamasını popülasyon ortalaması ile karşılaştıralım."
      ]
    },
    {
      "cell_type": "code",
      "metadata": {
        "colab": {
          "base_uri": "https://localhost:8080/"
        },
        "id": "al4RtDy2aowX",
        "outputId": "46302b7c-3308-433f-e8d4-dc48cc0abc9a"
      },
      "source": [
        "import numpy as np\n",
        "populasyon = np.random.randint(0,80,10000) #data oluştur\n",
        "populasyon[0:10]"
      ],
      "execution_count": 3,
      "outputs": [
        {
          "output_type": "execute_result",
          "data": {
            "text/plain": [
              "array([59, 48, 56, 76, 44, 26, 65, 37, 63, 58])"
            ]
          },
          "metadata": {},
          "execution_count": 3
        }
      ]
    },
    {
      "cell_type": "code",
      "metadata": {
        "id": "olksBTsm7GaE"
      },
      "source": [
        "import pandas as pd\n",
        "pd.DataFrame(populasyon) #dataframe e çevir"
      ],
      "execution_count": null,
      "outputs": []
    },
    {
      "cell_type": "code",
      "metadata": {
        "colab": {
          "base_uri": "https://localhost:8080/"
        },
        "id": "Xxli2ajR7MFm",
        "outputId": "17e655c2-f3d5-461c-c42f-2b01b9148b3f"
      },
      "source": [
        "#örneklem çekimi\n",
        "np.random.seed(115) #farklı örnneklemler gelmemesi için bunu klememiz gerekiyor.\n",
        "orneklem = np.random.choice(a = populasyon, size = 100)\n",
        "orneklem #örneklem çekme"
      ],
      "execution_count": 19,
      "outputs": [
        {
          "output_type": "execute_result",
          "data": {
            "text/plain": [
              "array([34, 54, 55, 58,  2, 13, 35, 65, 60,  2, 23, 23, 44, 38, 52, 13, 28,\n",
              "       24, 20, 25, 20, 71, 76, 34, 61, 42, 52, 61, 54, 57,  6, 15, 43, 40,\n",
              "       15,  7, 64, 77,  9, 58, 33, 25, 52, 78, 58, 21, 55, 64, 64, 77, 24,\n",
              "       30, 79, 64, 63, 69, 58, 43,  3, 65, 67, 31,  0, 65,  6,  6,  9,  6,\n",
              "       34,  2, 45,  7, 36, 31, 10, 13, 55,  0, 35,  6, 38, 75, 32, 59, 25,\n",
              "       31, 55, 26, 17, 53,  4, 42, 67, 51, 11, 77, 45, 42, 65, 45])"
            ]
          },
          "metadata": {},
          "execution_count": 19
        }
      ]
    },
    {
      "cell_type": "code",
      "metadata": {
        "colab": {
          "base_uri": "https://localhost:8080/"
        },
        "id": "juHIEm_i8Aln",
        "outputId": "05a8e82a-a6f4-4636-eec1-cc32dbc4b942"
      },
      "source": [
        "orneklem.mean()"
      ],
      "execution_count": 20,
      "outputs": [
        {
          "output_type": "execute_result",
          "data": {
            "text/plain": [
              "38.79"
            ]
          },
          "metadata": {},
          "execution_count": 20
        }
      ]
    },
    {
      "cell_type": "code",
      "metadata": {
        "colab": {
          "base_uri": "https://localhost:8080/"
        },
        "id": "pg1zbWEx9jpu",
        "outputId": "e1446fbe-f2fa-402b-a30b-e3befcd7cd42"
      },
      "source": [
        "populasyon.mean()"
      ],
      "execution_count": 21,
      "outputs": [
        {
          "output_type": "execute_result",
          "data": {
            "text/plain": [
              "39.7313"
            ]
          },
          "metadata": {},
          "execution_count": 21
        }
      ]
    },
    {
      "cell_type": "markdown",
      "metadata": {
        "id": "fN3a40Nw-CVi"
      },
      "source": [
        "* örneklem teorisine göre çekilen örneklemin ortalaması ile populasyon ortalaması birbirine yakındır.\n",
        "* çekilen örneklem hangi grup gruplardan çekildi, farklı farklı örneklemler çekilebilir miydi? her bir rastgele çekilen örneklemin ortalaması merkezi limit teoremi aracılıgıyla anakütle ortalamasına eşitlenir."
      ]
    },
    {
      "cell_type": "markdown",
      "metadata": {
        "id": "IfM609liAYg4"
      },
      "source": [
        "#2. Betimsel İstatistikler"
      ]
    },
    {
      "cell_type": "markdown",
      "metadata": {
        "id": "Cy99Jm6JAsEb"
      },
      "source": [
        "##2.1 Genel İstatistikler\n",
        "\n",
        "* Kovaryans: İki değişken arasındaki ilişkinin değişkenlik ölçüsüdür. iki rastgele değişkenin kendi ortalamalarından olan sapmalarının çarpımlarının beklenen değeridir.\n",
        "* Korelasyon: İki değişken arasındaki ilişkinin gücü ve yönü hakkında bilgi verir."
      ]
    },
    {
      "cell_type": "code",
      "metadata": {
        "colab": {
          "base_uri": "https://localhost:8080/",
          "height": 204
        },
        "id": "QpLZQF5XAh4Y",
        "outputId": "96aa145f-77d2-4a0c-d05f-369f38cf7cb9"
      },
      "source": [
        "#yeni data\n",
        "import seaborn as sns\n",
        "tips = sns.load_dataset(\"tips\")\n",
        "df = tips.copy()\n",
        "df.head()"
      ],
      "execution_count": 23,
      "outputs": [
        {
          "output_type": "execute_result",
          "data": {
            "text/html": [
              "<div>\n",
              "<style scoped>\n",
              "    .dataframe tbody tr th:only-of-type {\n",
              "        vertical-align: middle;\n",
              "    }\n",
              "\n",
              "    .dataframe tbody tr th {\n",
              "        vertical-align: top;\n",
              "    }\n",
              "\n",
              "    .dataframe thead th {\n",
              "        text-align: right;\n",
              "    }\n",
              "</style>\n",
              "<table border=\"1\" class=\"dataframe\">\n",
              "  <thead>\n",
              "    <tr style=\"text-align: right;\">\n",
              "      <th></th>\n",
              "      <th>total_bill</th>\n",
              "      <th>tip</th>\n",
              "      <th>sex</th>\n",
              "      <th>smoker</th>\n",
              "      <th>day</th>\n",
              "      <th>time</th>\n",
              "      <th>size</th>\n",
              "    </tr>\n",
              "  </thead>\n",
              "  <tbody>\n",
              "    <tr>\n",
              "      <th>0</th>\n",
              "      <td>16.99</td>\n",
              "      <td>1.01</td>\n",
              "      <td>Female</td>\n",
              "      <td>No</td>\n",
              "      <td>Sun</td>\n",
              "      <td>Dinner</td>\n",
              "      <td>2</td>\n",
              "    </tr>\n",
              "    <tr>\n",
              "      <th>1</th>\n",
              "      <td>10.34</td>\n",
              "      <td>1.66</td>\n",
              "      <td>Male</td>\n",
              "      <td>No</td>\n",
              "      <td>Sun</td>\n",
              "      <td>Dinner</td>\n",
              "      <td>3</td>\n",
              "    </tr>\n",
              "    <tr>\n",
              "      <th>2</th>\n",
              "      <td>21.01</td>\n",
              "      <td>3.50</td>\n",
              "      <td>Male</td>\n",
              "      <td>No</td>\n",
              "      <td>Sun</td>\n",
              "      <td>Dinner</td>\n",
              "      <td>3</td>\n",
              "    </tr>\n",
              "    <tr>\n",
              "      <th>3</th>\n",
              "      <td>23.68</td>\n",
              "      <td>3.31</td>\n",
              "      <td>Male</td>\n",
              "      <td>No</td>\n",
              "      <td>Sun</td>\n",
              "      <td>Dinner</td>\n",
              "      <td>2</td>\n",
              "    </tr>\n",
              "    <tr>\n",
              "      <th>4</th>\n",
              "      <td>24.59</td>\n",
              "      <td>3.61</td>\n",
              "      <td>Female</td>\n",
              "      <td>No</td>\n",
              "      <td>Sun</td>\n",
              "      <td>Dinner</td>\n",
              "      <td>4</td>\n",
              "    </tr>\n",
              "  </tbody>\n",
              "</table>\n",
              "</div>"
            ],
            "text/plain": [
              "   total_bill   tip     sex smoker  day    time  size\n",
              "0       16.99  1.01  Female     No  Sun  Dinner     2\n",
              "1       10.34  1.66    Male     No  Sun  Dinner     3\n",
              "2       21.01  3.50    Male     No  Sun  Dinner     3\n",
              "3       23.68  3.31    Male     No  Sun  Dinner     2\n",
              "4       24.59  3.61  Female     No  Sun  Dinner     4"
            ]
          },
          "metadata": {},
          "execution_count": 23
        }
      ]
    },
    {
      "cell_type": "code",
      "metadata": {
        "colab": {
          "base_uri": "https://localhost:8080/",
          "height": 142
        },
        "id": "FBXxSanYCNOw",
        "outputId": "df8e50e4-91b4-4213-fa46-5a6bf3bfce67"
      },
      "source": [
        "df.describe().T #betimsel istatistiklerin getirilmesi"
      ],
      "execution_count": 26,
      "outputs": [
        {
          "output_type": "execute_result",
          "data": {
            "text/html": [
              "<div>\n",
              "<style scoped>\n",
              "    .dataframe tbody tr th:only-of-type {\n",
              "        vertical-align: middle;\n",
              "    }\n",
              "\n",
              "    .dataframe tbody tr th {\n",
              "        vertical-align: top;\n",
              "    }\n",
              "\n",
              "    .dataframe thead th {\n",
              "        text-align: right;\n",
              "    }\n",
              "</style>\n",
              "<table border=\"1\" class=\"dataframe\">\n",
              "  <thead>\n",
              "    <tr style=\"text-align: right;\">\n",
              "      <th></th>\n",
              "      <th>count</th>\n",
              "      <th>mean</th>\n",
              "      <th>std</th>\n",
              "      <th>min</th>\n",
              "      <th>25%</th>\n",
              "      <th>50%</th>\n",
              "      <th>75%</th>\n",
              "      <th>max</th>\n",
              "    </tr>\n",
              "  </thead>\n",
              "  <tbody>\n",
              "    <tr>\n",
              "      <th>total_bill</th>\n",
              "      <td>244.0</td>\n",
              "      <td>19.785943</td>\n",
              "      <td>8.902412</td>\n",
              "      <td>3.07</td>\n",
              "      <td>13.3475</td>\n",
              "      <td>17.795</td>\n",
              "      <td>24.1275</td>\n",
              "      <td>50.81</td>\n",
              "    </tr>\n",
              "    <tr>\n",
              "      <th>tip</th>\n",
              "      <td>244.0</td>\n",
              "      <td>2.998279</td>\n",
              "      <td>1.383638</td>\n",
              "      <td>1.00</td>\n",
              "      <td>2.0000</td>\n",
              "      <td>2.900</td>\n",
              "      <td>3.5625</td>\n",
              "      <td>10.00</td>\n",
              "    </tr>\n",
              "    <tr>\n",
              "      <th>size</th>\n",
              "      <td>244.0</td>\n",
              "      <td>2.569672</td>\n",
              "      <td>0.951100</td>\n",
              "      <td>1.00</td>\n",
              "      <td>2.0000</td>\n",
              "      <td>2.000</td>\n",
              "      <td>3.0000</td>\n",
              "      <td>6.00</td>\n",
              "    </tr>\n",
              "  </tbody>\n",
              "</table>\n",
              "</div>"
            ],
            "text/plain": [
              "            count       mean       std   min      25%     50%      75%    max\n",
              "total_bill  244.0  19.785943  8.902412  3.07  13.3475  17.795  24.1275  50.81\n",
              "tip         244.0   2.998279  1.383638  1.00   2.0000   2.900   3.5625  10.00\n",
              "size        244.0   2.569672  0.951100  1.00   2.0000   2.000   3.0000   6.00"
            ]
          },
          "metadata": {},
          "execution_count": 26
        }
      ]
    },
    {
      "cell_type": "code",
      "metadata": {
        "id": "eRbJeczACsAz"
      },
      "source": [
        "!pip install researchpy\n",
        "import researchpy as rp #betimsel istatistiklerin diğer bi çağırlma yönetimi. daha detaylı güven aralıkları var"
      ],
      "execution_count": null,
      "outputs": []
    },
    {
      "cell_type": "code",
      "metadata": {
        "colab": {
          "base_uri": "https://localhost:8080/",
          "height": 176
        },
        "id": "K-1AwUlUDbXg",
        "outputId": "8db93400-3466-46fa-bf59-e21b2430e6af"
      },
      "source": [
        "rp.summary_cont(df[[\"total_bill\",\"tip\",\"size\"]]) # sayısal degişkenler için"
      ],
      "execution_count": 31,
      "outputs": [
        {
          "output_type": "stream",
          "name": "stdout",
          "text": [
            "\n",
            "\n"
          ]
        },
        {
          "output_type": "execute_result",
          "data": {
            "text/html": [
              "<div>\n",
              "<style scoped>\n",
              "    .dataframe tbody tr th:only-of-type {\n",
              "        vertical-align: middle;\n",
              "    }\n",
              "\n",
              "    .dataframe tbody tr th {\n",
              "        vertical-align: top;\n",
              "    }\n",
              "\n",
              "    .dataframe thead th {\n",
              "        text-align: right;\n",
              "    }\n",
              "</style>\n",
              "<table border=\"1\" class=\"dataframe\">\n",
              "  <thead>\n",
              "    <tr style=\"text-align: right;\">\n",
              "      <th></th>\n",
              "      <th>Variable</th>\n",
              "      <th>N</th>\n",
              "      <th>Mean</th>\n",
              "      <th>SD</th>\n",
              "      <th>SE</th>\n",
              "      <th>95% Conf.</th>\n",
              "      <th>Interval</th>\n",
              "    </tr>\n",
              "  </thead>\n",
              "  <tbody>\n",
              "    <tr>\n",
              "      <th>0</th>\n",
              "      <td>total_bill</td>\n",
              "      <td>244.0</td>\n",
              "      <td>19.7859</td>\n",
              "      <td>8.9024</td>\n",
              "      <td>0.5699</td>\n",
              "      <td>18.6633</td>\n",
              "      <td>20.9086</td>\n",
              "    </tr>\n",
              "    <tr>\n",
              "      <th>1</th>\n",
              "      <td>tip</td>\n",
              "      <td>244.0</td>\n",
              "      <td>2.9983</td>\n",
              "      <td>1.3836</td>\n",
              "      <td>0.0886</td>\n",
              "      <td>2.8238</td>\n",
              "      <td>3.1728</td>\n",
              "    </tr>\n",
              "    <tr>\n",
              "      <th>2</th>\n",
              "      <td>size</td>\n",
              "      <td>244.0</td>\n",
              "      <td>2.5697</td>\n",
              "      <td>0.9511</td>\n",
              "      <td>0.0609</td>\n",
              "      <td>2.4497</td>\n",
              "      <td>2.6896</td>\n",
              "    </tr>\n",
              "  </tbody>\n",
              "</table>\n",
              "</div>"
            ],
            "text/plain": [
              "     Variable      N     Mean      SD      SE  95% Conf.  Interval\n",
              "0  total_bill  244.0  19.7859  8.9024  0.5699    18.6633   20.9086\n",
              "1         tip  244.0   2.9983  1.3836  0.0886     2.8238    3.1728\n",
              "2        size  244.0   2.5697  0.9511  0.0609     2.4497    2.6896"
            ]
          },
          "metadata": {},
          "execution_count": 31
        }
      ]
    },
    {
      "cell_type": "markdown",
      "metadata": {
        "id": "7V2lbq1pEDT1"
      },
      "source": [
        "sayı, ortalama, standanrt sapma, standart hata, güven aralıkları, ???"
      ]
    },
    {
      "cell_type": "code",
      "metadata": {
        "colab": {
          "base_uri": "https://localhost:8080/",
          "height": 297
        },
        "id": "2vfPFcY6DnmQ",
        "outputId": "8ac6a282-4954-40cf-a4a4-21b7d592c2f4"
      },
      "source": [
        "rp.summary_cat(df[[\"sex\",\"smoker\",\"day\"]]) # kategorik degişkenler için"
      ],
      "execution_count": 32,
      "outputs": [
        {
          "output_type": "execute_result",
          "data": {
            "text/html": [
              "<div>\n",
              "<style scoped>\n",
              "    .dataframe tbody tr th:only-of-type {\n",
              "        vertical-align: middle;\n",
              "    }\n",
              "\n",
              "    .dataframe tbody tr th {\n",
              "        vertical-align: top;\n",
              "    }\n",
              "\n",
              "    .dataframe thead th {\n",
              "        text-align: right;\n",
              "    }\n",
              "</style>\n",
              "<table border=\"1\" class=\"dataframe\">\n",
              "  <thead>\n",
              "    <tr style=\"text-align: right;\">\n",
              "      <th></th>\n",
              "      <th>Variable</th>\n",
              "      <th>Outcome</th>\n",
              "      <th>Count</th>\n",
              "      <th>Percent</th>\n",
              "    </tr>\n",
              "  </thead>\n",
              "  <tbody>\n",
              "    <tr>\n",
              "      <th>0</th>\n",
              "      <td>sex</td>\n",
              "      <td>Male</td>\n",
              "      <td>157</td>\n",
              "      <td>64.34</td>\n",
              "    </tr>\n",
              "    <tr>\n",
              "      <th>1</th>\n",
              "      <td></td>\n",
              "      <td>Female</td>\n",
              "      <td>87</td>\n",
              "      <td>35.66</td>\n",
              "    </tr>\n",
              "    <tr>\n",
              "      <th>2</th>\n",
              "      <td>smoker</td>\n",
              "      <td>No</td>\n",
              "      <td>151</td>\n",
              "      <td>61.89</td>\n",
              "    </tr>\n",
              "    <tr>\n",
              "      <th>3</th>\n",
              "      <td></td>\n",
              "      <td>Yes</td>\n",
              "      <td>93</td>\n",
              "      <td>38.11</td>\n",
              "    </tr>\n",
              "    <tr>\n",
              "      <th>4</th>\n",
              "      <td>day</td>\n",
              "      <td>Sat</td>\n",
              "      <td>87</td>\n",
              "      <td>35.66</td>\n",
              "    </tr>\n",
              "    <tr>\n",
              "      <th>5</th>\n",
              "      <td></td>\n",
              "      <td>Sun</td>\n",
              "      <td>76</td>\n",
              "      <td>31.15</td>\n",
              "    </tr>\n",
              "    <tr>\n",
              "      <th>6</th>\n",
              "      <td></td>\n",
              "      <td>Thur</td>\n",
              "      <td>62</td>\n",
              "      <td>25.41</td>\n",
              "    </tr>\n",
              "    <tr>\n",
              "      <th>7</th>\n",
              "      <td></td>\n",
              "      <td>Fri</td>\n",
              "      <td>19</td>\n",
              "      <td>7.79</td>\n",
              "    </tr>\n",
              "  </tbody>\n",
              "</table>\n",
              "</div>"
            ],
            "text/plain": [
              "  Variable Outcome  Count  Percent\n",
              "0      sex    Male    157    64.34\n",
              "1           Female     87    35.66\n",
              "2   smoker      No    151    61.89\n",
              "3              Yes     93    38.11\n",
              "4      day     Sat     87    35.66\n",
              "5              Sun     76    31.15\n",
              "6             Thur     62    25.41\n",
              "7              Fri     19     7.79"
            ]
          },
          "metadata": {},
          "execution_count": 32
        }
      ]
    },
    {
      "cell_type": "markdown",
      "metadata": {
        "id": "S2n-azhvHYVI"
      },
      "source": [
        "##2.2 Kovaryans Ve Korelasyon"
      ]
    },
    {
      "cell_type": "code",
      "metadata": {
        "colab": {
          "base_uri": "https://localhost:8080/",
          "height": 111
        },
        "id": "Jdx_oKveEaGn",
        "outputId": "9af13a21-fc20-40e6-b525-961c10e02a32"
      },
      "source": [
        "#kovaryans\n",
        "df[[\"tip\",\"total_bill\"]].cov() # sayısal değişkenlerin kovaryansı olur. tip ile toplam fatura arasındaki değişkenlik ölçüsünü merak ediyurz"
      ],
      "execution_count": 37,
      "outputs": [
        {
          "output_type": "execute_result",
          "data": {
            "text/html": [
              "<div>\n",
              "<style scoped>\n",
              "    .dataframe tbody tr th:only-of-type {\n",
              "        vertical-align: middle;\n",
              "    }\n",
              "\n",
              "    .dataframe tbody tr th {\n",
              "        vertical-align: top;\n",
              "    }\n",
              "\n",
              "    .dataframe thead th {\n",
              "        text-align: right;\n",
              "    }\n",
              "</style>\n",
              "<table border=\"1\" class=\"dataframe\">\n",
              "  <thead>\n",
              "    <tr style=\"text-align: right;\">\n",
              "      <th></th>\n",
              "      <th>tip</th>\n",
              "      <th>total_bill</th>\n",
              "    </tr>\n",
              "  </thead>\n",
              "  <tbody>\n",
              "    <tr>\n",
              "      <th>tip</th>\n",
              "      <td>1.914455</td>\n",
              "      <td>8.323502</td>\n",
              "    </tr>\n",
              "    <tr>\n",
              "      <th>total_bill</th>\n",
              "      <td>8.323502</td>\n",
              "      <td>79.252939</td>\n",
              "    </tr>\n",
              "  </tbody>\n",
              "</table>\n",
              "</div>"
            ],
            "text/plain": [
              "                 tip  total_bill\n",
              "tip         1.914455    8.323502\n",
              "total_bill  8.323502   79.252939"
            ]
          },
          "metadata": {},
          "execution_count": 37
        }
      ]
    },
    {
      "cell_type": "markdown",
      "metadata": {
        "id": "2a257V7mFmnr"
      },
      "source": [
        "iki değişken arasındai varsayns olarak kabul edilebilir."
      ]
    },
    {
      "cell_type": "code",
      "metadata": {
        "colab": {
          "base_uri": "https://localhost:8080/",
          "height": 111
        },
        "id": "zYlt_NsaEnVQ",
        "outputId": "331c903d-dea1-40f3-c59b-3d51d7b44656"
      },
      "source": [
        "#korelasyon\n",
        "df[[\"tip\",\"total_bill\"]].corr()"
      ],
      "execution_count": 38,
      "outputs": [
        {
          "output_type": "execute_result",
          "data": {
            "text/html": [
              "<div>\n",
              "<style scoped>\n",
              "    .dataframe tbody tr th:only-of-type {\n",
              "        vertical-align: middle;\n",
              "    }\n",
              "\n",
              "    .dataframe tbody tr th {\n",
              "        vertical-align: top;\n",
              "    }\n",
              "\n",
              "    .dataframe thead th {\n",
              "        text-align: right;\n",
              "    }\n",
              "</style>\n",
              "<table border=\"1\" class=\"dataframe\">\n",
              "  <thead>\n",
              "    <tr style=\"text-align: right;\">\n",
              "      <th></th>\n",
              "      <th>tip</th>\n",
              "      <th>total_bill</th>\n",
              "    </tr>\n",
              "  </thead>\n",
              "  <tbody>\n",
              "    <tr>\n",
              "      <th>tip</th>\n",
              "      <td>1.000000</td>\n",
              "      <td>0.675734</td>\n",
              "    </tr>\n",
              "    <tr>\n",
              "      <th>total_bill</th>\n",
              "      <td>0.675734</td>\n",
              "      <td>1.000000</td>\n",
              "    </tr>\n",
              "  </tbody>\n",
              "</table>\n",
              "</div>"
            ],
            "text/plain": [
              "                 tip  total_bill\n",
              "tip         1.000000    0.675734\n",
              "total_bill  0.675734    1.000000"
            ]
          },
          "metadata": {},
          "execution_count": 38
        }
      ]
    },
    {
      "cell_type": "markdown",
      "metadata": {
        "id": "1C4GHeP8F-X3"
      },
      "source": [
        "tip ve total bill değişkenleri arasındaki bağı açıklar. daha ilerde bunların anlamlılıkları da ölçülecek."
      ]
    },
    {
      "cell_type": "markdown",
      "metadata": {
        "id": "B_HXFtnGIxfo"
      },
      "source": [
        "#3. Güven Aralıkları\n",
        "\n",
        "* anakütle parametresinin tahmini değerini kapsayabilecek 2 sayılı bir aralık.\n",
        "* ölçümün hassasiyetinin bir göstergesidir.\n",
        "* ön tanımlı değer %95 dir (alfa değerinin tersi)\n",
        "* 95 lik güven sınırının tablo değeri 1,96 dır\n",
        "\n",
        "> örnek uygulama: n=100, ort=180, st.sapma=40 ise ortalamanın güven aralığını hesapla. 180+1,96*40/kök100  ,  180-1,96*40/kök100 -->172 , 188 arasında\n",
        "\n",
        "> örnek uygulama 2: yeni üretilen bir ürünün optimum fiyatını belirleme \n",
        "\n"
      ]
    },
    {
      "cell_type": "code",
      "metadata": {
        "colab": {
          "base_uri": "https://localhost:8080/"
        },
        "id": "kx1JdcVeI0hx",
        "outputId": "113062f5-93cd-40f1-ee04-ea41f55c4f0d"
      },
      "source": [
        "import numpy as np\n",
        "fiyatlar = np.random.randint(10,110,1000) #data oluştur. 10 tl den 110 arasında 1000 kişi ile anket yapılmış\n",
        "fiyatlar.mean() # ortalama"
      ],
      "execution_count": 42,
      "outputs": [
        {
          "output_type": "execute_result",
          "data": {
            "text/plain": [
              "60.818"
            ]
          },
          "metadata": {},
          "execution_count": 42
        }
      ]
    },
    {
      "cell_type": "code",
      "metadata": {
        "colab": {
          "base_uri": "https://localhost:8080/"
        },
        "id": "y1ceCyoOOABH",
        "outputId": "0ac2dfbe-f251-45e7-e41b-ac550f265691"
      },
      "source": [
        "import statsmodels.stats.api as sms #fonksiyon çağırıyoruz\n",
        "sms.DescrStatsW(fiyatlar).tconfint_mean()"
      ],
      "execution_count": 44,
      "outputs": [
        {
          "output_type": "execute_result",
          "data": {
            "text/plain": [
              "(59.05139417524599, 62.58460582475401)"
            ]
          },
          "metadata": {},
          "execution_count": 44
        }
      ]
    },
    {
      "cell_type": "markdown",
      "metadata": {
        "id": "xIUII3jyPQmq"
      },
      "source": [
        "müşterilerin %95 i 59 lira ile 62 lira arasında ücret verebilmektedir"
      ]
    },
    {
      "cell_type": "code",
      "metadata": {
        "id": "FoPqTsycOjth"
      },
      "source": [
        ""
      ],
      "execution_count": null,
      "outputs": []
    },
    {
      "cell_type": "markdown",
      "metadata": {
        "id": "rO63xIUzQSPT"
      },
      "source": [
        "#4. Olasılık Dağılımları\n",
        "\n",
        "* olasılık: bir olayın meydana gelmesi için uygun durum sayısının o durumun olabileceği tüm durum sayısına oranıdır.\n",
        "* rassal değişken: değerlerini bir deneyin sonucundan alan değişkene rassal değişken denir\n",
        "* dağılım: olayların sayısal karşılıklarının otaya çıkardığı yapıya dağılım denir\n",
        "* olasılık dağılımı: olayların sayısal karşılığının gerçekleşme olasılıkları ile birlikte sunulması\n",
        "* olasılık hesaplamak için kullanılan fonksiyon"
      ]
    },
    {
      "cell_type": "code",
      "metadata": {
        "id": "nninWkbyQUGj"
      },
      "source": [
        ""
      ],
      "execution_count": null,
      "outputs": []
    }
  ]
}